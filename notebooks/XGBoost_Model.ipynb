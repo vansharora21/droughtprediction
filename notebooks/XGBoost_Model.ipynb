{
 "cells": [
  {
   "cell_type": "markdown",
   "id": "16c6f883",
   "metadata": {},
   "source": [
    "# Drought Prediction with XGBoost"
   ]
  },
  {
   "cell_type": "code",
   "execution_count": null,
   "id": "85bc4501",
   "metadata": {},
   "outputs": [],
   "source": [
    "import pandas as pd\n",
    "import numpy as np\n",
    "import matplotlib.pyplot as plt\n",
    "from sklearn.model_selection import train_test_split\n",
    "from sklearn.metrics import classification_report, confusion_matrix\n",
    "from xgboost import XGBClassifier\n",
    "from sklearn.preprocessing import LabelEncoder\n",
    "\n",
    "# Load data\n",
    "df = pd.read_csv('USDMData.csv')\n",
    "df = df.ffill()  # Updated from deprecated fillna method\n",
    "\n",
    "# Separate features and labels\n",
    "features = df.drop(columns=['DroughtCategory'], errors='ignore')\n",
    "\n",
    "# Convert object columns to numeric\n",
    "for col in features.select_dtypes(include='object').columns:\n",
    "    features[col] = features[col].astype('category').cat.codes\n",
    "\n",
    "# Encode labels\n",
    "labels = df['DroughtCategory'] if 'DroughtCategory' in df.columns else df.iloc[:, -1]\n",
    "le = LabelEncoder()\n",
    "labels = le.fit_transform(labels)\n",
    "\n",
    "# Train-test split\n",
    "X_train, X_test, y_train, y_test = train_test_split(features, labels, test_size=0.2, random_state=42)\n",
    "\n",
    "# Train model\n",
    "model = XGBClassifier()\n",
    "model.fit(X_train, y_train)\n",
    "\n",
    "# Predict\n",
    "y_pred = model.predict(X_test)\n",
    "\n",
    "# Evaluation\n",
    "print(classification_report(y_test, y_pred))\n",
    "conf_matrix = confusion_matrix(y_test, y_pred)\n",
    "print(\"Confusion Matrix:\\n\", conf_matrix)\n"
   ]
  },
  {
   "cell_type": "code",
   "execution_count": null,
   "id": "f0f5e5fb-ebdf-4e82-b862-a102fb0ce6a5",
   "metadata": {},
   "outputs": [],
   "source": []
  },
  {
   "cell_type": "code",
   "execution_count": null,
   "id": "40612d24-a120-4037-bc36-120cb532c8b6",
   "metadata": {},
   "outputs": [],
   "source": []
  }
 ],
 "metadata": {
  "kernelspec": {
   "display_name": "Python 3 (ipykernel)",
   "language": "python",
   "name": "python3"
  },
  "language_info": {
   "codemirror_mode": {
    "name": "ipython",
    "version": 3
   },
   "file_extension": ".py",
   "mimetype": "text/x-python",
   "name": "python",
   "nbconvert_exporter": "python",
   "pygments_lexer": "ipython3",
   "version": "3.10.9"
  }
 },
 "nbformat": 4,
 "nbformat_minor": 5
}
